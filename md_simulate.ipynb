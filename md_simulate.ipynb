{
  "nbformat": 4,
  "nbformat_minor": 0,
  "metadata": {
    "colab": {
      "provenance": [],
      "authorship_tag": "ABX9TyOzWPZzQcDvAdTfSN296Cew",
      "include_colab_link": true
    },
    "kernelspec": {
      "name": "python3",
      "display_name": "Python 3"
    },
    "language_info": {
      "name": "python"
    }
  },
  "cells": [
    {
      "cell_type": "markdown",
      "metadata": {
        "id": "view-in-github",
        "colab_type": "text"
      },
      "source": [
        "<a href=\"https://colab.research.google.com/github/MinamiNaoya/ExperimentTools/blob/main/md_simulate.ipynb\" target=\"_parent\"><img src=\"https://colab.research.google.com/assets/colab-badge.svg\" alt=\"Open In Colab\"/></a>"
      ]
    },
    {
      "cell_type": "markdown",
      "source": [
        "## PDBファイルの取得"
      ],
      "metadata": {
        "id": "58ZMUQn5fML9"
      }
    },
    {
      "cell_type": "code",
      "source": [
        "!pip install biopython\n",
        "import time\n",
        "import urllib\n",
        "from Bio.PDB import PDBList\n",
        "\n",
        "pdb_ids = ['1ao6', '7jkz', '3i1y']\n",
        "\n",
        "def download_file(url, dst_path):\n",
        "    with urllib.request.urlopen(url) as web_file:\n",
        "        with open(dst_path, 'wb') as local_file:\n",
        "            local_file.write(web_file.read())\n",
        "\n",
        "# AlphaFold\n",
        "url = \"https://alphafold.ebi.ac.uk/files/AF-P02768-F1-model_v4.pdb\"\n",
        "\n",
        "dst_path = \"AF-P02768-F1-model_v4.pdb\"\n",
        "download_file(url, dst_path)\n",
        "\n",
        "pdbl = PDBList()\n",
        "\n",
        "for pdb_id in pdb_ids:\n",
        "    pdbl.retrieve_pdb_file(pdb_id, pdir='pdb_files/')\n",
        "    time.sleep(10)"
      ],
      "metadata": {
        "id": "d4FAF7bofLBV"
      },
      "execution_count": null,
      "outputs": []
    },
    {
      "cell_type": "markdown",
      "source": [
        "# MD Simulation"
      ],
      "metadata": {
        "id": "uM0uPTnmejhk"
      }
    },
    {
      "cell_type": "code",
      "execution_count": null,
      "metadata": {
        "id": "oYYQOJeJei0d"
      },
      "outputs": [],
      "source": [
        "!conda install -c conda-forge openmm\n",
        "!conda install -c conda-forge pdbfixer -y\n"
      ]
    },
    {
      "cell_type": "markdown",
      "source": [
        "### OpenMM setupはローカルでデプロイ"
      ],
      "metadata": {
        "id": "aC6QAMDXeva1"
      }
    },
    {
      "cell_type": "markdown",
      "source": [],
      "metadata": {
        "id": "jdCpXb4Oe2yk"
      }
    },
    {
      "cell_type": "code",
      "source": [
        "import openmm as mm\n",
        "import openmm.app as app\n",
        "from openmm import unit\n",
        "import pdbfixer\n",
        "\n",
        "def preprocessing(pdb_file):\n",
        "  # PDBFixerでPDBファイルを読み込む\n",
        "  fixer = pdbfixer.PDBFixer(pdb_file)\n",
        "\n",
        "  # 分子力場の設定\n",
        "  forcefield = app.ForceField(\"amber14-all.xml\", \"amber14/tip3pfb.xml\")\n",
        "\n",
        "  # 不要な構造の削除\n",
        "  fixer.removeHeterogens()\n",
        "\n",
        "  # 欠けている残基のチェック（欠損原子の確認のためにも必要）\n",
        "  fixer.findMissingResidues()\n",
        "\n",
        "  # タンパク質末端の欠けている残基を取り除く処理\n",
        "  chains = list(fixer.topology.chains())\n",
        "  keys = fixer.missingResidues.keys()\n",
        "  for key in list(keys):\n",
        "      chain = chains[key[0]]\n",
        "      if key[1] == 0 or key[1] == len(list(chain.residues())):\n",
        "          del fixer.missingResidues[key]\n",
        "\n",
        "  # 非標準な残基が含まれているか確認、あれば標準的なものに置き換える\n",
        "  fixer.findNonstandardResidues()\n",
        "  fixer.replaceNonstandardResidues()\n",
        "\n",
        "  # 欠けている原子の確認、あれば追加する\n",
        "  fixer.findMissingAtoms()\n",
        "  fixer.addMissingAtoms()\n",
        "\n",
        "  # 水素原子の付与（pHを設定する）\n",
        "  ph = 7.0\n",
        "  fixer.addMissingHydrogens(ph)\n",
        "\n",
        "  # 水ボックスの追加（力場、paddingの厚み、イオン濃度（デフォルトはNaCl））\n",
        "  modeller = app.Modeller(fixer.topology, fixer.positions)\n",
        "  modeller.addSolvent(forcefield, padding=1.0 * unit.nanometers, ionicStrength=0.15 * unit.molar)\n",
        "\n",
        "  # 処理後の状態（トポロジー、原子の位置）をPDBファイルで出力\n",
        "  top = modeller.getTopology()\n",
        "  pos = modeller.getPositions()\n",
        "  app.PDBFile.writeFile(top, pos, open(f'{pdb_file.replace(\".pdb\", \"_preprocessed\")}.pdb', 'w'))"
      ],
      "metadata": {
        "id": "ssyWosqVe0RG"
      },
      "execution_count": null,
      "outputs": []
    },
    {
      "cell_type": "markdown",
      "source": [
        "## MD計算"
      ],
      "metadata": {
        "id": "ytwCYbcue6Jb"
      }
    },
    {
      "cell_type": "code",
      "source": [
        "\"\"\"\n",
        "以下はOpenMM setupで自動でスクリプトを作成できる。\n",
        "\"\"\"\n",
        "# This script was generated by OpenMM-Setup on 2024-06-08.\n",
        "\n",
        "from openmm import *\n",
        "from openmm.app import *\n",
        "from openmm.unit import *\n",
        "\n",
        "# Input Files\n",
        "\n",
        "pdb = PDBFile('AF-P02768-F1-model_v4_preprocessed.pdb')\n",
        "forcefield = ForceField('amber14-all.xml', 'amber14/tip3pfb.xml')\n",
        "\n",
        "# System Configuration\n",
        "\n",
        "nonbondedMethod = PME\n",
        "nonbondedCutoff = 1.0*nanometers\n",
        "ewaldErrorTolerance = 0.0005\n",
        "constraints = HBonds\n",
        "rigidWater = True\n",
        "constraintTolerance = 0.000001\n",
        "hydrogenMass = 1.5*amu\n",
        "\n",
        "# Integration Options\n",
        "\n",
        "dt = 0.004*picoseconds\n",
        "temperature = 300*kelvin\n",
        "friction = 1.0/picosecond\n",
        "pressure = 1.0*atmospheres\n",
        "barostatInterval = 25\n",
        "\n",
        "# Simulation Options\n",
        "\n",
        "steps = 1000000\n",
        "equilibrationSteps = 1000\n",
        "platform = Platform.getPlatformByName('CUDA')\n",
        "platformProperties = {'Precision': 'single'}\n",
        "dcdReporter = DCDReporter('trajectory.dcd', 10000)\n",
        "dataReporter = StateDataReporter('log.txt', 1000, totalSteps=steps,\n",
        "    step=True, speed=True, progress=True, potentialEnergy=True, temperature=True, separator='\\t')\n",
        "checkpointReporter = CheckpointReporter('checkpoint.chk', 10000)\n",
        "\n",
        "# Prepare the Simulation\n",
        "\n",
        "print('Building system...')\n",
        "topology = pdb.topology\n",
        "positions = pdb.positions\n",
        "system = forcefield.createSystem(topology, nonbondedMethod=nonbondedMethod, nonbondedCutoff=nonbondedCutoff,\n",
        "    constraints=constraints, rigidWater=rigidWater, ewaldErrorTolerance=ewaldErrorTolerance, hydrogenMass=hydrogenMass)\n",
        "system.addForce(MonteCarloBarostat(pressure, temperature, barostatInterval))\n",
        "integrator = LangevinMiddleIntegrator(temperature, friction, dt)\n",
        "integrator.setConstraintTolerance(constraintTolerance)\n",
        "simulation = Simulation(topology, system, integrator, platform, platformProperties)\n",
        "simulation.context.setPositions(positions)\n",
        "\n",
        "# Minimize and Equilibrate\n",
        "\n",
        "print('Performing energy minimization...')\n",
        "simulation.minimizeEnergy()\n",
        "print('Equilibrating...')\n",
        "simulation.context.setVelocitiesToTemperature(temperature)\n",
        "simulation.step(equilibrationSteps)\n",
        "\n",
        "# Simulate\n",
        "\n",
        "print('Simulating...')\n",
        "simulation.reporters.append(dcdReporter)\n",
        "simulation.reporters.append(dataReporter)\n",
        "simulation.reporters.append(checkpointReporter)\n",
        "simulation.currentStep = 0\n",
        "simulation.step(steps)"
      ],
      "metadata": {
        "id": "t3TfRNVOe4c5"
      },
      "execution_count": null,
      "outputs": []
    }
  ]
}