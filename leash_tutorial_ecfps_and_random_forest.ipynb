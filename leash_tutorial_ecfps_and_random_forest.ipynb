{
  "cells": [
    {
      "cell_type": "markdown",
      "metadata": {
        "id": "view-in-github",
        "colab_type": "text"
      },
      "source": [
        "<a href=\"https://colab.research.google.com/github/MinamiNaoya/ExperimentTools/blob/main/leash_tutorial_ecfps_and_random_forest.ipynb\" target=\"_parent\"><img src=\"https://colab.research.google.com/assets/colab-badge.svg\" alt=\"Open In Colab\"/></a>"
      ]
    },
    {
      "cell_type": "markdown",
      "id": "86db0e6c",
      "metadata": {
        "papermill": {
          "duration": 0.005985,
          "end_time": "2024-05-31T06:07:15.724414",
          "exception": false,
          "start_time": "2024-05-31T06:07:15.718429",
          "status": "completed"
        },
        "tags": [],
        "id": "86db0e6c"
      },
      "source": [
        "# Leash Tutorial - ECFPs and Random Forest\n",
        "## Introduction\n",
        "\n",
        "There are many ways to represent molecules for machine learning.\n",
        "\n",
        "In this tutorial we will go through one of the simplest: ECFPs [[1]](https://pubs.acs.org/doi/10.1021/ci100050t) and Random Forest. This technique is surprisingly powerful, and on previous benchmarks often gets uncomfortably close to the state of the art.\n",
        "\n",
        "First molecule graphs are broken into bags of subgraphs of varying sizes.\n",
        "\n",
        "![ecfp featurizing process (chemaxon)](https://docs.chemaxon.com/display/docs/images/download/attachments/1806333/ecfp_generation.png)\n",
        "\n",
        "Then the bag of subgraphs is hashed into a bit vector\n",
        "\n",
        "![hashing process (chemaxon)](https://docs.chemaxon.com/display/docs/images/download/attachments/1806333/ecfp_folding.png)\n",
        "\n",
        "This can be thought of as analogous to the [hashing trick](https://en.wikipedia.org/wiki/Feature_hashing) [[2]](https://alex.smola.org/papers/2009/Weinbergeretal09.pdf) on bag of words for NLP problems, from the days before transformers.\n",
        "\n",
        "RDKit, an open-source cheminformatics tool, is used for generating ECFP features. It facilitates the creation of hashed bit vectors, streamlining the process. We can install it as follows:"
      ]
    },
    {
      "cell_type": "code",
      "execution_count": null,
      "id": "4849815f",
      "metadata": {
        "execution": {
          "iopub.execute_input": "2024-05-31T06:07:15.737142Z",
          "iopub.status.busy": "2024-05-31T06:07:15.736702Z",
          "iopub.status.idle": "2024-05-31T06:07:34.769896Z",
          "shell.execute_reply": "2024-05-31T06:07:34.768593Z"
        },
        "papermill": {
          "duration": 19.042571,
          "end_time": "2024-05-31T06:07:34.772650",
          "exception": false,
          "start_time": "2024-05-31T06:07:15.730079",
          "status": "completed"
        },
        "tags": [],
        "colab": {
          "base_uri": "https://localhost:8080/"
        },
        "id": "4849815f",
        "outputId": "4cbc04e0-0166-4126-ed2e-1aac852b28e1"
      },
      "outputs": [
        {
          "output_type": "stream",
          "name": "stdout",
          "text": [
            "Collecting rdkit\n",
            "  Downloading rdkit-2023.9.6-cp310-cp310-manylinux_2_17_x86_64.manylinux2014_x86_64.whl (34.9 MB)\n",
            "\u001b[2K     \u001b[90m━━━━━━━━━━━━━━━━━━━━━━━━━━━━━━━━━━━━━━━━\u001b[0m \u001b[32m34.9/34.9 MB\u001b[0m \u001b[31m39.7 MB/s\u001b[0m eta \u001b[36m0:00:00\u001b[0m\n",
            "\u001b[?25hRequirement already satisfied: numpy in /usr/local/lib/python3.10/dist-packages (from rdkit) (1.25.2)\n",
            "Requirement already satisfied: Pillow in /usr/local/lib/python3.10/dist-packages (from rdkit) (9.4.0)\n",
            "Installing collected packages: rdkit\n",
            "Successfully installed rdkit-2023.9.6\n"
          ]
        }
      ],
      "source": [
        "!pip install rdkit"
      ]
    },
    {
      "cell_type": "markdown",
      "id": "5d7e4727",
      "metadata": {
        "papermill": {
          "duration": 0.006589,
          "end_time": "2024-05-31T06:07:34.786349",
          "exception": false,
          "start_time": "2024-05-31T06:07:34.779760",
          "status": "completed"
        },
        "tags": [],
        "id": "5d7e4727"
      },
      "source": [
        "The training set is pretty big, but we can treat the parquet files as databases using duckdb. We will use this to sample down to a smaller dataset for demonstration purposes. Lets install duckdb as well."
      ]
    },
    {
      "cell_type": "code",
      "execution_count": null,
      "id": "2aa8d417",
      "metadata": {
        "execution": {
          "iopub.execute_input": "2024-05-31T06:07:34.802381Z",
          "iopub.status.busy": "2024-05-31T06:07:34.801931Z",
          "iopub.status.idle": "2024-05-31T06:07:50.678827Z",
          "shell.execute_reply": "2024-05-31T06:07:50.677170Z"
        },
        "papermill": {
          "duration": 15.888979,
          "end_time": "2024-05-31T06:07:50.682269",
          "exception": false,
          "start_time": "2024-05-31T06:07:34.793290",
          "status": "completed"
        },
        "tags": [],
        "colab": {
          "base_uri": "https://localhost:8080/"
        },
        "id": "2aa8d417",
        "outputId": "19677011-08e4-47b0-df96-1bb34f54e932"
      },
      "outputs": [
        {
          "output_type": "stream",
          "name": "stdout",
          "text": [
            "Requirement already satisfied: duckdb in /usr/local/lib/python3.10/dist-packages (0.10.3)\n"
          ]
        }
      ],
      "source": [
        "!pip install duckdb"
      ]
    },
    {
      "cell_type": "code",
      "source": [
        "!pip install kaggle\n",
        "\n",
        "from google.colab import drive\n",
        "drive.mount('/content/drive')\n",
        "\n",
        "import os\n",
        "import json\n",
        "f = open(\"/content/drive/MyDrive/kaggle.json\", 'r')\n",
        "json_data = json.load(f)\n",
        "os.environ['KAGGLE_USERNAME'] = json_data['username']\n",
        "os.environ['KAGGLE_KEY'] = json_data['key']"
      ],
      "metadata": {
        "colab": {
          "base_uri": "https://localhost:8080/"
        },
        "id": "UE-HcDNP3KCR",
        "outputId": "356a4e66-fad0-4820-8d0c-e28a53c9d5b7"
      },
      "id": "UE-HcDNP3KCR",
      "execution_count": null,
      "outputs": [
        {
          "output_type": "stream",
          "name": "stdout",
          "text": [
            "Requirement already satisfied: kaggle in /usr/local/lib/python3.10/dist-packages (1.6.14)\n",
            "Requirement already satisfied: six>=1.10 in /usr/local/lib/python3.10/dist-packages (from kaggle) (1.16.0)\n",
            "Requirement already satisfied: certifi>=2023.7.22 in /usr/local/lib/python3.10/dist-packages (from kaggle) (2024.6.2)\n",
            "Requirement already satisfied: python-dateutil in /usr/local/lib/python3.10/dist-packages (from kaggle) (2.8.2)\n",
            "Requirement already satisfied: requests in /usr/local/lib/python3.10/dist-packages (from kaggle) (2.31.0)\n",
            "Requirement already satisfied: tqdm in /usr/local/lib/python3.10/dist-packages (from kaggle) (4.66.4)\n",
            "Requirement already satisfied: python-slugify in /usr/local/lib/python3.10/dist-packages (from kaggle) (8.0.4)\n",
            "Requirement already satisfied: urllib3 in /usr/local/lib/python3.10/dist-packages (from kaggle) (2.0.7)\n",
            "Requirement already satisfied: bleach in /usr/local/lib/python3.10/dist-packages (from kaggle) (6.1.0)\n",
            "Requirement already satisfied: webencodings in /usr/local/lib/python3.10/dist-packages (from bleach->kaggle) (0.5.1)\n",
            "Requirement already satisfied: text-unidecode>=1.3 in /usr/local/lib/python3.10/dist-packages (from python-slugify->kaggle) (1.3)\n",
            "Requirement already satisfied: charset-normalizer<4,>=2 in /usr/local/lib/python3.10/dist-packages (from requests->kaggle) (3.3.2)\n",
            "Requirement already satisfied: idna<4,>=2.5 in /usr/local/lib/python3.10/dist-packages (from requests->kaggle) (3.7)\n",
            "Mounted at /content/drive\n"
          ]
        }
      ]
    },
    {
      "cell_type": "code",
      "source": [
        "!kaggle competitions download -c leash-BELKA"
      ],
      "metadata": {
        "id": "hBRCPVrD3O4z",
        "colab": {
          "base_uri": "https://localhost:8080/"
        },
        "outputId": "a30125b4-57e4-4c96-9470-07d5d27506e2"
      },
      "id": "hBRCPVrD3O4z",
      "execution_count": null,
      "outputs": [
        {
          "output_type": "stream",
          "name": "stdout",
          "text": [
            "Downloading leash-BELKA.zip to /content\n",
            "100% 4.16G/4.16G [04:26<00:00, 15.9MB/s]\n",
            "100% 4.16G/4.16G [04:26<00:00, 16.8MB/s]\n"
          ]
        }
      ]
    },
    {
      "cell_type": "code",
      "source": [
        "!unzip '/content/leash-BELKA.zip'"
      ],
      "metadata": {
        "id": "wV6P9m1T3rhz",
        "colab": {
          "base_uri": "https://localhost:8080/"
        },
        "outputId": "283663bc-b1b1-49ef-caaa-0f722c99f90c"
      },
      "id": "wV6P9m1T3rhz",
      "execution_count": null,
      "outputs": [
        {
          "output_type": "stream",
          "name": "stdout",
          "text": [
            "Archive:  /content/leash-BELKA.zip\n",
            "  inflating: sample_submission.csv   \n",
            "  inflating: test.csv                \n",
            "  inflating: test.parquet            \n",
            "  inflating: train.csv               \n",
            "  inflating: train.parquet           \n"
          ]
        }
      ]
    },
    {
      "cell_type": "markdown",
      "id": "43c2df1a",
      "metadata": {
        "papermill": {
          "duration": 0.007793,
          "end_time": "2024-05-31T06:07:51.762763",
          "exception": false,
          "start_time": "2024-05-31T06:07:51.754970",
          "status": "completed"
        },
        "tags": [],
        "id": "43c2df1a"
      },
      "source": [
        "## Data Preparation\n",
        "\n",
        "The training and testing data paths are defined for the .parquet files. We use duckdb to scan search through the large training sets. Just to get started lets sample out an equal number of positive and negatives.\n",
        "\n",
        "This query selects an equal number of samples where binds equals 0 (non-binding) and 1 (binding), limited to 30,000 each, to avoid model bias towards a particular class.\n",
        "\n",
        "トレーニングデータとテストデータのパスは.parquetファイルに対して定義されます。duckdbを使用して、大規模なトレーニングセットをスキャン検索します。まずは、ポジティブとネガティブを同数ずつ抽出します。このクエリでは、モデルが特定のクラスに偏らないように、bindsが0（非結合）と1（結合）の同数のサンプルを、それぞれ30,000個に制限して選択します。"
      ]
    },
    {
      "cell_type": "code",
      "execution_count": null,
      "id": "abf3d32b",
      "metadata": {
        "execution": {
          "iopub.execute_input": "2024-05-31T06:07:51.781854Z",
          "iopub.status.busy": "2024-05-31T06:07:51.780625Z",
          "iopub.status.idle": "2024-05-31T06:07:52.378490Z",
          "shell.execute_reply": "2024-05-31T06:07:52.376784Z"
        },
        "papermill": {
          "duration": 0.609705,
          "end_time": "2024-05-31T06:07:52.380574",
          "exception": true,
          "start_time": "2024-05-31T06:07:51.770869",
          "status": "failed"
        },
        "tags": [],
        "id": "abf3d32b",
        "colab": {
          "base_uri": "https://localhost:8080/",
          "height": 49,
          "referenced_widgets": [
            "e6a93c2faa784a808417e35a23a14784",
            "a0b8ef23d3a242d8bb5acde318075d50",
            "22039b022ad74b73818b8ce14f6086d9"
          ]
        },
        "outputId": "57eb7af8-8d7a-4877-949b-32650ce28b6e"
      },
      "outputs": [
        {
          "output_type": "display_data",
          "data": {
            "text/plain": [
              "FloatProgress(value=0.0, layout=Layout(width='auto'), style=ProgressStyle(bar_color='black'))"
            ],
            "application/vnd.jupyter.widget-view+json": {
              "version_major": 2,
              "version_minor": 0,
              "model_id": "e6a93c2faa784a808417e35a23a14784"
            }
          },
          "metadata": {}
        }
      ],
      "source": [
        "import duckdb\n",
        "import pandas as pd\n",
        "\n",
        "train_path = '/content/train.parquet'\n",
        "test_path = '/content/test.parquet'\n",
        "\n",
        "con = duckdb.connect()\n",
        "\n",
        "df = con.query(f\"\"\"(SELECT *\n",
        "                        FROM parquet_scan('{train_path}')\n",
        "                        WHERE binds = 0\n",
        "                        ORDER BY random()\n",
        "                        LIMIT 40000)\n",
        "                        UNION ALL\n",
        "                        (SELECT *\n",
        "                        FROM parquet_scan('{train_path}')\n",
        "                        WHERE binds = 1\n",
        "                        ORDER BY random()\n",
        "                        LIMIT 40000)\"\"\").df()\n",
        "\n",
        "con.close()"
      ]
    },
    {
      "cell_type": "markdown",
      "source": [
        "## sEH\n",
        "エポキシドヒドロラーゼ2はEPHX2遺伝子座にコードされており、そのタンパク質産物は一般に「可溶性エポキシドヒドロラーゼ」、またはsEHと略称される。ヒドロラーゼは特定の化学反応を触媒する酵素であり、EPHX2/sEHもまた特定のリン酸基を加水分解する。EPHX2/sEHは、高血圧と糖尿病進行のための潜在的な薬物標的であり、以前のDELの努力からEPHX2/sEHを阻害する低分子が臨床試験に進んだ。\n",
        "## BRD4\n",
        "ブロモドメイン4はBRD4遺伝子座にコードされており、そのタンパク質産物もBRD4と命名されている。ブロモドメインは、DNAが巻き付く核内のタンパク質スプール（ヒストンと呼ばれる）に結合し、近くのDNAが転写される可能性に影響を与え、新しい遺伝子産物を作り出す。ブロモドメインは癌の進行に関与しており、その活性を阻害する薬剤が数多く発見されている。\n",
        "## ALB\n",
        "第3の標的である血清アルブミンはALB遺伝子座にコードされており、そのタンパク質産物もALBと命名されている。このタンパク質産物は「ヒト血清アルブミン」を意味するHSAと略されることもある。血液中で最も一般的なタンパク質であるALBは、浸透圧（組織から血管内に体液を戻す）を促進し、多くのリガンド、ホルモン、脂肪酸などを輸送するのに使われる。我々は、Active Motif社から購入したALBを審査した。タンパク質の構造情報を応募に取り入れたい応募者のために、アミノ酸配列はUniProtエントリーP02768の25位から609位、結晶構造はPDBエントリー1AO6、予測構造はAlphaFold2エントリーP02768にあります。リガンドが結合したその他のALB結晶構造はPDBにある。"
      ],
      "metadata": {
        "id": "PJliT--dwY8A"
      },
      "id": "PJliT--dwY8A"
    },
    {
      "cell_type": "code",
      "execution_count": null,
      "id": "4f5a19a7",
      "metadata": {
        "execution": {
          "iopub.status.busy": "2024-05-31T06:05:07.675151Z",
          "iopub.status.idle": "2024-05-31T06:05:07.675598Z",
          "shell.execute_reply": "2024-05-31T06:05:07.675408Z",
          "shell.execute_reply.started": "2024-05-31T06:05:07.675390Z"
        },
        "papermill": {
          "duration": null,
          "end_time": null,
          "exception": null,
          "start_time": null,
          "status": "pending"
        },
        "tags": [],
        "id": "4f5a19a7",
        "colab": {
          "base_uri": "https://localhost:8080/",
          "height": 548
        },
        "outputId": "11461005-a4a0-4d4b-8503-f6dcd2cab7e5"
      },
      "outputs": [
        {
          "output_type": "execute_result",
          "data": {
            "text/plain": [
              "              id                              buildingblock1_smiles  \\\n",
              "0      283410838  O=C(O)[C@@H]1C[C@@H]2CCCC[C@@H]2N1C(=O)OCC1c2c...   \n",
              "1      113653839  O=C(N[C@H](C(=O)O)C1CCCCC1)OCC1c2ccccc2-c2ccccc21   \n",
              "2       75787238          O=C(NC1(C(=O)O)CC1)OCC1c2ccccc2-c2ccccc21   \n",
              "3       33864313   COc1ccc(C(=O)O)c(NC(=O)OCC2c3ccccc3-c3ccccc32)c1   \n",
              "4      153194860  O=C(Nc1c(I)c(C(=O)O)c(I)c(C(=O)O)c1I)OCC1c2ccc...   \n",
              "...          ...                                                ...   \n",
              "79995   18777072  CC(OC(C)(C)C)C(NC(=O)OCC1c2ccccc2-c2ccccc21)C(...   \n",
              "79996  197694383   O=C(Nc1ccc(Cl)c(C(=O)O)c1)OCC1c2ccccc2-c2ccccc21   \n",
              "79997  248278912  O=C(O)C[C@@H](Cc1ccc(Cl)cc1Cl)NC(=O)OCC1c2cccc...   \n",
              "79998   82684805      O=C(NCC1CCC(C(=O)O)CC1)OCC1c2ccccc2-c2ccccc21   \n",
              "79999   13395596  CC(C)(C)OC(=O)CCC(NC(=O)OCC1c2ccccc2-c2ccccc21...   \n",
              "\n",
              "           buildingblock2_smiles      buildingblock3_smiles  \\\n",
              "0                 CN1CC(CN)CC1=O      Nc1nc(Cl)c2[nH]cnc2n1   \n",
              "1                  Cc1cc(F)ccc1N  NCC1(c2ccc(Cl)cc2Cl)CCCC1   \n",
              "2          Cl.NCCNC(=O)c1ccccc1F          Br.NCc1cccc(Br)n1   \n",
              "3                  CCC(CC)(CN)OC          Cl.NC[C@@H]1CCCO1   \n",
              "4      Cl.NCc1nnc2c(=O)[nH]ccn12               Cn1cc(CN)cn1   \n",
              "...                          ...                        ...   \n",
              "79995        COc1ccc(CN)c(C)c1OC      CC1(C)CC(CN)C(C)(C)O1   \n",
              "79996     Cl.Cl.NCc1ccc2ccccc2n1      Cc1cc2cc(CN)ccc2[nH]1   \n",
              "79997            Nc1ccc2nccnc2c1      Cc1cc2cc(CN)ccc2[nH]1   \n",
              "79998        Nc1cccc(-n2cncn2)c1         Nc1ccc2c(c1)OCCCO2   \n",
              "79999                  CSSCCN.Cl            Nc1ncnc(Cl)c1Cl   \n",
              "\n",
              "                                         molecule_smiles protein_name  binds  \n",
              "0      CN1CC(CNc2nc(Nc3nc(Cl)c4[nH]cnc4n3)nc(N3[C@H](...          HSA      0  \n",
              "1      Cc1cc(F)ccc1Nc1nc(NCC2(c3ccc(Cl)cc3Cl)CCCC2)nc...         BRD4      0  \n",
              "2      O=C(NCCNc1nc(NCc2cccc(Br)n2)nc(NC2(C(=O)N[Dy])...          sEH      0  \n",
              "3      CCC(CC)(CNc1nc(NC[C@@H]2CCCO2)nc(Nc2cc(OC)ccc2...          HSA      0  \n",
              "4      Cn1cc(CNc2nc(NCc3nnc4c(=O)[nH]ccn34)nc(Nc3c(I)...          HSA      0  \n",
              "...                                                  ...          ...    ...  \n",
              "79995  COc1ccc(CNc2nc(NCC3CC(C)(C)OC3(C)C)nc(NC(C(=O)...         BRD4      1  \n",
              "79996  Cc1cc2cc(CNc3nc(NCc4ccc5ccccc5n4)nc(Nc4ccc(Cl)...          sEH      1  \n",
              "79997  Cc1cc2cc(CNc3nc(Nc4ccc5nccnc5c4)nc(N[C@@H](CC(...          HSA      1  \n",
              "79998  O=C(N[Dy])C1CCC(CNc2nc(Nc3cccc(-n4cncn4)c3)nc(...          sEH      1  \n",
              "79999  CSSCCNc1nc(Nc2ncnc(Cl)c2Cl)nc(NC(CCC(=O)OC(C)(...          sEH      1  \n",
              "\n",
              "[80000 rows x 7 columns]"
            ],
            "text/html": [
              "\n",
              "  <div id=\"df-9feada4b-e794-4d8f-8d82-c6f07460c958\" class=\"colab-df-container\">\n",
              "    <div>\n",
              "<style scoped>\n",
              "    .dataframe tbody tr th:only-of-type {\n",
              "        vertical-align: middle;\n",
              "    }\n",
              "\n",
              "    .dataframe tbody tr th {\n",
              "        vertical-align: top;\n",
              "    }\n",
              "\n",
              "    .dataframe thead th {\n",
              "        text-align: right;\n",
              "    }\n",
              "</style>\n",
              "<table border=\"1\" class=\"dataframe\">\n",
              "  <thead>\n",
              "    <tr style=\"text-align: right;\">\n",
              "      <th></th>\n",
              "      <th>id</th>\n",
              "      <th>buildingblock1_smiles</th>\n",
              "      <th>buildingblock2_smiles</th>\n",
              "      <th>buildingblock3_smiles</th>\n",
              "      <th>molecule_smiles</th>\n",
              "      <th>protein_name</th>\n",
              "      <th>binds</th>\n",
              "    </tr>\n",
              "  </thead>\n",
              "  <tbody>\n",
              "    <tr>\n",
              "      <th>0</th>\n",
              "      <td>283410838</td>\n",
              "      <td>O=C(O)[C@@H]1C[C@@H]2CCCC[C@@H]2N1C(=O)OCC1c2c...</td>\n",
              "      <td>CN1CC(CN)CC1=O</td>\n",
              "      <td>Nc1nc(Cl)c2[nH]cnc2n1</td>\n",
              "      <td>CN1CC(CNc2nc(Nc3nc(Cl)c4[nH]cnc4n3)nc(N3[C@H](...</td>\n",
              "      <td>HSA</td>\n",
              "      <td>0</td>\n",
              "    </tr>\n",
              "    <tr>\n",
              "      <th>1</th>\n",
              "      <td>113653839</td>\n",
              "      <td>O=C(N[C@H](C(=O)O)C1CCCCC1)OCC1c2ccccc2-c2ccccc21</td>\n",
              "      <td>Cc1cc(F)ccc1N</td>\n",
              "      <td>NCC1(c2ccc(Cl)cc2Cl)CCCC1</td>\n",
              "      <td>Cc1cc(F)ccc1Nc1nc(NCC2(c3ccc(Cl)cc3Cl)CCCC2)nc...</td>\n",
              "      <td>BRD4</td>\n",
              "      <td>0</td>\n",
              "    </tr>\n",
              "    <tr>\n",
              "      <th>2</th>\n",
              "      <td>75787238</td>\n",
              "      <td>O=C(NC1(C(=O)O)CC1)OCC1c2ccccc2-c2ccccc21</td>\n",
              "      <td>Cl.NCCNC(=O)c1ccccc1F</td>\n",
              "      <td>Br.NCc1cccc(Br)n1</td>\n",
              "      <td>O=C(NCCNc1nc(NCc2cccc(Br)n2)nc(NC2(C(=O)N[Dy])...</td>\n",
              "      <td>sEH</td>\n",
              "      <td>0</td>\n",
              "    </tr>\n",
              "    <tr>\n",
              "      <th>3</th>\n",
              "      <td>33864313</td>\n",
              "      <td>COc1ccc(C(=O)O)c(NC(=O)OCC2c3ccccc3-c3ccccc32)c1</td>\n",
              "      <td>CCC(CC)(CN)OC</td>\n",
              "      <td>Cl.NC[C@@H]1CCCO1</td>\n",
              "      <td>CCC(CC)(CNc1nc(NC[C@@H]2CCCO2)nc(Nc2cc(OC)ccc2...</td>\n",
              "      <td>HSA</td>\n",
              "      <td>0</td>\n",
              "    </tr>\n",
              "    <tr>\n",
              "      <th>4</th>\n",
              "      <td>153194860</td>\n",
              "      <td>O=C(Nc1c(I)c(C(=O)O)c(I)c(C(=O)O)c1I)OCC1c2ccc...</td>\n",
              "      <td>Cl.NCc1nnc2c(=O)[nH]ccn12</td>\n",
              "      <td>Cn1cc(CN)cn1</td>\n",
              "      <td>Cn1cc(CNc2nc(NCc3nnc4c(=O)[nH]ccn34)nc(Nc3c(I)...</td>\n",
              "      <td>HSA</td>\n",
              "      <td>0</td>\n",
              "    </tr>\n",
              "    <tr>\n",
              "      <th>...</th>\n",
              "      <td>...</td>\n",
              "      <td>...</td>\n",
              "      <td>...</td>\n",
              "      <td>...</td>\n",
              "      <td>...</td>\n",
              "      <td>...</td>\n",
              "      <td>...</td>\n",
              "    </tr>\n",
              "    <tr>\n",
              "      <th>79995</th>\n",
              "      <td>18777072</td>\n",
              "      <td>CC(OC(C)(C)C)C(NC(=O)OCC1c2ccccc2-c2ccccc21)C(...</td>\n",
              "      <td>COc1ccc(CN)c(C)c1OC</td>\n",
              "      <td>CC1(C)CC(CN)C(C)(C)O1</td>\n",
              "      <td>COc1ccc(CNc2nc(NCC3CC(C)(C)OC3(C)C)nc(NC(C(=O)...</td>\n",
              "      <td>BRD4</td>\n",
              "      <td>1</td>\n",
              "    </tr>\n",
              "    <tr>\n",
              "      <th>79996</th>\n",
              "      <td>197694383</td>\n",
              "      <td>O=C(Nc1ccc(Cl)c(C(=O)O)c1)OCC1c2ccccc2-c2ccccc21</td>\n",
              "      <td>Cl.Cl.NCc1ccc2ccccc2n1</td>\n",
              "      <td>Cc1cc2cc(CN)ccc2[nH]1</td>\n",
              "      <td>Cc1cc2cc(CNc3nc(NCc4ccc5ccccc5n4)nc(Nc4ccc(Cl)...</td>\n",
              "      <td>sEH</td>\n",
              "      <td>1</td>\n",
              "    </tr>\n",
              "    <tr>\n",
              "      <th>79997</th>\n",
              "      <td>248278912</td>\n",
              "      <td>O=C(O)C[C@@H](Cc1ccc(Cl)cc1Cl)NC(=O)OCC1c2cccc...</td>\n",
              "      <td>Nc1ccc2nccnc2c1</td>\n",
              "      <td>Cc1cc2cc(CN)ccc2[nH]1</td>\n",
              "      <td>Cc1cc2cc(CNc3nc(Nc4ccc5nccnc5c4)nc(N[C@@H](CC(...</td>\n",
              "      <td>HSA</td>\n",
              "      <td>1</td>\n",
              "    </tr>\n",
              "    <tr>\n",
              "      <th>79998</th>\n",
              "      <td>82684805</td>\n",
              "      <td>O=C(NCC1CCC(C(=O)O)CC1)OCC1c2ccccc2-c2ccccc21</td>\n",
              "      <td>Nc1cccc(-n2cncn2)c1</td>\n",
              "      <td>Nc1ccc2c(c1)OCCCO2</td>\n",
              "      <td>O=C(N[Dy])C1CCC(CNc2nc(Nc3cccc(-n4cncn4)c3)nc(...</td>\n",
              "      <td>sEH</td>\n",
              "      <td>1</td>\n",
              "    </tr>\n",
              "    <tr>\n",
              "      <th>79999</th>\n",
              "      <td>13395596</td>\n",
              "      <td>CC(C)(C)OC(=O)CCC(NC(=O)OCC1c2ccccc2-c2ccccc21...</td>\n",
              "      <td>CSSCCN.Cl</td>\n",
              "      <td>Nc1ncnc(Cl)c1Cl</td>\n",
              "      <td>CSSCCNc1nc(Nc2ncnc(Cl)c2Cl)nc(NC(CCC(=O)OC(C)(...</td>\n",
              "      <td>sEH</td>\n",
              "      <td>1</td>\n",
              "    </tr>\n",
              "  </tbody>\n",
              "</table>\n",
              "<p>80000 rows × 7 columns</p>\n",
              "</div>\n",
              "    <div class=\"colab-df-buttons\">\n",
              "\n",
              "  <div class=\"colab-df-container\">\n",
              "    <button class=\"colab-df-convert\" onclick=\"convertToInteractive('df-9feada4b-e794-4d8f-8d82-c6f07460c958')\"\n",
              "            title=\"Convert this dataframe to an interactive table.\"\n",
              "            style=\"display:none;\">\n",
              "\n",
              "  <svg xmlns=\"http://www.w3.org/2000/svg\" height=\"24px\" viewBox=\"0 -960 960 960\">\n",
              "    <path d=\"M120-120v-720h720v720H120Zm60-500h600v-160H180v160Zm220 220h160v-160H400v160Zm0 220h160v-160H400v160ZM180-400h160v-160H180v160Zm440 0h160v-160H620v160ZM180-180h160v-160H180v160Zm440 0h160v-160H620v160Z\"/>\n",
              "  </svg>\n",
              "    </button>\n",
              "\n",
              "  <style>\n",
              "    .colab-df-container {\n",
              "      display:flex;\n",
              "      gap: 12px;\n",
              "    }\n",
              "\n",
              "    .colab-df-convert {\n",
              "      background-color: #E8F0FE;\n",
              "      border: none;\n",
              "      border-radius: 50%;\n",
              "      cursor: pointer;\n",
              "      display: none;\n",
              "      fill: #1967D2;\n",
              "      height: 32px;\n",
              "      padding: 0 0 0 0;\n",
              "      width: 32px;\n",
              "    }\n",
              "\n",
              "    .colab-df-convert:hover {\n",
              "      background-color: #E2EBFA;\n",
              "      box-shadow: 0px 1px 2px rgba(60, 64, 67, 0.3), 0px 1px 3px 1px rgba(60, 64, 67, 0.15);\n",
              "      fill: #174EA6;\n",
              "    }\n",
              "\n",
              "    .colab-df-buttons div {\n",
              "      margin-bottom: 4px;\n",
              "    }\n",
              "\n",
              "    [theme=dark] .colab-df-convert {\n",
              "      background-color: #3B4455;\n",
              "      fill: #D2E3FC;\n",
              "    }\n",
              "\n",
              "    [theme=dark] .colab-df-convert:hover {\n",
              "      background-color: #434B5C;\n",
              "      box-shadow: 0px 1px 3px 1px rgba(0, 0, 0, 0.15);\n",
              "      filter: drop-shadow(0px 1px 2px rgba(0, 0, 0, 0.3));\n",
              "      fill: #FFFFFF;\n",
              "    }\n",
              "  </style>\n",
              "\n",
              "    <script>\n",
              "      const buttonEl =\n",
              "        document.querySelector('#df-9feada4b-e794-4d8f-8d82-c6f07460c958 button.colab-df-convert');\n",
              "      buttonEl.style.display =\n",
              "        google.colab.kernel.accessAllowed ? 'block' : 'none';\n",
              "\n",
              "      async function convertToInteractive(key) {\n",
              "        const element = document.querySelector('#df-9feada4b-e794-4d8f-8d82-c6f07460c958');\n",
              "        const dataTable =\n",
              "          await google.colab.kernel.invokeFunction('convertToInteractive',\n",
              "                                                    [key], {});\n",
              "        if (!dataTable) return;\n",
              "\n",
              "        const docLinkHtml = 'Like what you see? Visit the ' +\n",
              "          '<a target=\"_blank\" href=https://colab.research.google.com/notebooks/data_table.ipynb>data table notebook</a>'\n",
              "          + ' to learn more about interactive tables.';\n",
              "        element.innerHTML = '';\n",
              "        dataTable['output_type'] = 'display_data';\n",
              "        await google.colab.output.renderOutput(dataTable, element);\n",
              "        const docLink = document.createElement('div');\n",
              "        docLink.innerHTML = docLinkHtml;\n",
              "        element.appendChild(docLink);\n",
              "      }\n",
              "    </script>\n",
              "  </div>\n",
              "\n",
              "\n",
              "<div id=\"df-addbacb9-b424-4d12-92d6-3b8539d68d41\">\n",
              "  <button class=\"colab-df-quickchart\" onclick=\"quickchart('df-addbacb9-b424-4d12-92d6-3b8539d68d41')\"\n",
              "            title=\"Suggest charts\"\n",
              "            style=\"display:none;\">\n",
              "\n",
              "<svg xmlns=\"http://www.w3.org/2000/svg\" height=\"24px\"viewBox=\"0 0 24 24\"\n",
              "     width=\"24px\">\n",
              "    <g>\n",
              "        <path d=\"M19 3H5c-1.1 0-2 .9-2 2v14c0 1.1.9 2 2 2h14c1.1 0 2-.9 2-2V5c0-1.1-.9-2-2-2zM9 17H7v-7h2v7zm4 0h-2V7h2v10zm4 0h-2v-4h2v4z\"/>\n",
              "    </g>\n",
              "</svg>\n",
              "  </button>\n",
              "\n",
              "<style>\n",
              "  .colab-df-quickchart {\n",
              "      --bg-color: #E8F0FE;\n",
              "      --fill-color: #1967D2;\n",
              "      --hover-bg-color: #E2EBFA;\n",
              "      --hover-fill-color: #174EA6;\n",
              "      --disabled-fill-color: #AAA;\n",
              "      --disabled-bg-color: #DDD;\n",
              "  }\n",
              "\n",
              "  [theme=dark] .colab-df-quickchart {\n",
              "      --bg-color: #3B4455;\n",
              "      --fill-color: #D2E3FC;\n",
              "      --hover-bg-color: #434B5C;\n",
              "      --hover-fill-color: #FFFFFF;\n",
              "      --disabled-bg-color: #3B4455;\n",
              "      --disabled-fill-color: #666;\n",
              "  }\n",
              "\n",
              "  .colab-df-quickchart {\n",
              "    background-color: var(--bg-color);\n",
              "    border: none;\n",
              "    border-radius: 50%;\n",
              "    cursor: pointer;\n",
              "    display: none;\n",
              "    fill: var(--fill-color);\n",
              "    height: 32px;\n",
              "    padding: 0;\n",
              "    width: 32px;\n",
              "  }\n",
              "\n",
              "  .colab-df-quickchart:hover {\n",
              "    background-color: var(--hover-bg-color);\n",
              "    box-shadow: 0 1px 2px rgba(60, 64, 67, 0.3), 0 1px 3px 1px rgba(60, 64, 67, 0.15);\n",
              "    fill: var(--button-hover-fill-color);\n",
              "  }\n",
              "\n",
              "  .colab-df-quickchart-complete:disabled,\n",
              "  .colab-df-quickchart-complete:disabled:hover {\n",
              "    background-color: var(--disabled-bg-color);\n",
              "    fill: var(--disabled-fill-color);\n",
              "    box-shadow: none;\n",
              "  }\n",
              "\n",
              "  .colab-df-spinner {\n",
              "    border: 2px solid var(--fill-color);\n",
              "    border-color: transparent;\n",
              "    border-bottom-color: var(--fill-color);\n",
              "    animation:\n",
              "      spin 1s steps(1) infinite;\n",
              "  }\n",
              "\n",
              "  @keyframes spin {\n",
              "    0% {\n",
              "      border-color: transparent;\n",
              "      border-bottom-color: var(--fill-color);\n",
              "      border-left-color: var(--fill-color);\n",
              "    }\n",
              "    20% {\n",
              "      border-color: transparent;\n",
              "      border-left-color: var(--fill-color);\n",
              "      border-top-color: var(--fill-color);\n",
              "    }\n",
              "    30% {\n",
              "      border-color: transparent;\n",
              "      border-left-color: var(--fill-color);\n",
              "      border-top-color: var(--fill-color);\n",
              "      border-right-color: var(--fill-color);\n",
              "    }\n",
              "    40% {\n",
              "      border-color: transparent;\n",
              "      border-right-color: var(--fill-color);\n",
              "      border-top-color: var(--fill-color);\n",
              "    }\n",
              "    60% {\n",
              "      border-color: transparent;\n",
              "      border-right-color: var(--fill-color);\n",
              "    }\n",
              "    80% {\n",
              "      border-color: transparent;\n",
              "      border-right-color: var(--fill-color);\n",
              "      border-bottom-color: var(--fill-color);\n",
              "    }\n",
              "    90% {\n",
              "      border-color: transparent;\n",
              "      border-bottom-color: var(--fill-color);\n",
              "    }\n",
              "  }\n",
              "</style>\n",
              "\n",
              "  <script>\n",
              "    async function quickchart(key) {\n",
              "      const quickchartButtonEl =\n",
              "        document.querySelector('#' + key + ' button');\n",
              "      quickchartButtonEl.disabled = true;  // To prevent multiple clicks.\n",
              "      quickchartButtonEl.classList.add('colab-df-spinner');\n",
              "      try {\n",
              "        const charts = await google.colab.kernel.invokeFunction(\n",
              "            'suggestCharts', [key], {});\n",
              "      } catch (error) {\n",
              "        console.error('Error during call to suggestCharts:', error);\n",
              "      }\n",
              "      quickchartButtonEl.classList.remove('colab-df-spinner');\n",
              "      quickchartButtonEl.classList.add('colab-df-quickchart-complete');\n",
              "    }\n",
              "    (() => {\n",
              "      let quickchartButtonEl =\n",
              "        document.querySelector('#df-addbacb9-b424-4d12-92d6-3b8539d68d41 button');\n",
              "      quickchartButtonEl.style.display =\n",
              "        google.colab.kernel.accessAllowed ? 'block' : 'none';\n",
              "    })();\n",
              "  </script>\n",
              "</div>\n",
              "\n",
              "  <div id=\"id_ddf6dcb3-f5a5-4951-906d-d0680d650c7b\">\n",
              "    <style>\n",
              "      .colab-df-generate {\n",
              "        background-color: #E8F0FE;\n",
              "        border: none;\n",
              "        border-radius: 50%;\n",
              "        cursor: pointer;\n",
              "        display: none;\n",
              "        fill: #1967D2;\n",
              "        height: 32px;\n",
              "        padding: 0 0 0 0;\n",
              "        width: 32px;\n",
              "      }\n",
              "\n",
              "      .colab-df-generate:hover {\n",
              "        background-color: #E2EBFA;\n",
              "        box-shadow: 0px 1px 2px rgba(60, 64, 67, 0.3), 0px 1px 3px 1px rgba(60, 64, 67, 0.15);\n",
              "        fill: #174EA6;\n",
              "      }\n",
              "\n",
              "      [theme=dark] .colab-df-generate {\n",
              "        background-color: #3B4455;\n",
              "        fill: #D2E3FC;\n",
              "      }\n",
              "\n",
              "      [theme=dark] .colab-df-generate:hover {\n",
              "        background-color: #434B5C;\n",
              "        box-shadow: 0px 1px 3px 1px rgba(0, 0, 0, 0.15);\n",
              "        filter: drop-shadow(0px 1px 2px rgba(0, 0, 0, 0.3));\n",
              "        fill: #FFFFFF;\n",
              "      }\n",
              "    </style>\n",
              "    <button class=\"colab-df-generate\" onclick=\"generateWithVariable('df')\"\n",
              "            title=\"Generate code using this dataframe.\"\n",
              "            style=\"display:none;\">\n",
              "\n",
              "  <svg xmlns=\"http://www.w3.org/2000/svg\" height=\"24px\"viewBox=\"0 0 24 24\"\n",
              "       width=\"24px\">\n",
              "    <path d=\"M7,19H8.4L18.45,9,17,7.55,7,17.6ZM5,21V16.75L18.45,3.32a2,2,0,0,1,2.83,0l1.4,1.43a1.91,1.91,0,0,1,.58,1.4,1.91,1.91,0,0,1-.58,1.4L9.25,21ZM18.45,9,17,7.55Zm-12,3A5.31,5.31,0,0,0,4.9,8.1,5.31,5.31,0,0,0,1,6.5,5.31,5.31,0,0,0,4.9,4.9,5.31,5.31,0,0,0,6.5,1,5.31,5.31,0,0,0,8.1,4.9,5.31,5.31,0,0,0,12,6.5,5.46,5.46,0,0,0,6.5,12Z\"/>\n",
              "  </svg>\n",
              "    </button>\n",
              "    <script>\n",
              "      (() => {\n",
              "      const buttonEl =\n",
              "        document.querySelector('#id_ddf6dcb3-f5a5-4951-906d-d0680d650c7b button.colab-df-generate');\n",
              "      buttonEl.style.display =\n",
              "        google.colab.kernel.accessAllowed ? 'block' : 'none';\n",
              "\n",
              "      buttonEl.onclick = () => {\n",
              "        google.colab.notebook.generateWithVariable('df');\n",
              "      }\n",
              "      })();\n",
              "    </script>\n",
              "  </div>\n",
              "\n",
              "    </div>\n",
              "  </div>\n"
            ],
            "application/vnd.google.colaboratory.intrinsic+json": {
              "type": "dataframe",
              "variable_name": "df",
              "summary": "{\n  \"name\": \"df\",\n  \"rows\": 80000,\n  \"fields\": [\n    {\n      \"column\": \"id\",\n      \"properties\": {\n        \"dtype\": \"number\",\n        \"std\": 83061405,\n        \"min\": 388,\n        \"max\": 295240424,\n        \"num_unique_values\": 80000,\n        \"samples\": [\n          184350531,\n          166859695,\n          82712411\n        ],\n        \"semantic_type\": \"\",\n        \"description\": \"\"\n      }\n    },\n    {\n      \"column\": \"buildingblock1_smiles\",\n      \"properties\": {\n        \"dtype\": \"category\",\n        \"num_unique_values\": 271,\n        \"samples\": [\n          \"CC(C)(C)OC(=O)N1C[C@@H](NC(=O)OCC2c3ccccc3-c3ccccc32)[C@H](C(=O)O)C1\",\n          \"N#Cc1ccc(C[C@H](NC(=O)OCC2c3ccccc3-c3ccccc32)C(=O)O)cc1\",\n          \"O=C(N[C@H](Cc1ccccc1Cl)C(=O)O)OCC1c2ccccc2-c2ccccc21\"\n        ],\n        \"semantic_type\": \"\",\n        \"description\": \"\"\n      }\n    },\n    {\n      \"column\": \"buildingblock2_smiles\",\n      \"properties\": {\n        \"dtype\": \"category\",\n        \"num_unique_values\": 693,\n        \"samples\": [\n          \"Cc1cc(N)n(-c2ccccc2)n1\",\n          \"COC(=O)c1cc(N)ccc1Cl\",\n          \"Nc1ncc(-c2ccccc2)s1\"\n        ],\n        \"semantic_type\": \"\",\n        \"description\": \"\"\n      }\n    },\n    {\n      \"column\": \"buildingblock3_smiles\",\n      \"properties\": {\n        \"dtype\": \"category\",\n        \"num_unique_values\": 867,\n        \"samples\": [\n          \"NCCN1CCCOCC1\",\n          \"COC(=O)c1cccc(N)n1\",\n          \"Cc1cc(C#N)c(N)s1\"\n        ],\n        \"semantic_type\": \"\",\n        \"description\": \"\"\n      }\n    },\n    {\n      \"column\": \"molecule_smiles\",\n      \"properties\": {\n        \"dtype\": \"string\",\n        \"num_unique_values\": 79925,\n        \"samples\": [\n          \"Cn1cc(Nc2nc(NCC3CCC(C(=O)N[Dy])CC3)nc(NCC3Cc4ccccc4NC3=O)n2)cn1\",\n          \"CC(C)CC(Nc1nc(NCC=Cc2cccnc2)nc(Nc2cc(F)c(F)cc2Br)n1)C(=O)N[Dy]\",\n          \"Cc1ccc(CNc2nc(NCCCCC3(C)OCCO3)nc(Nc3cc(-n4cccn4)ccc3C(=O)N[Dy])n2)nc1C\"\n        ],\n        \"semantic_type\": \"\",\n        \"description\": \"\"\n      }\n    },\n    {\n      \"column\": \"protein_name\",\n      \"properties\": {\n        \"dtype\": \"category\",\n        \"num_unique_values\": 3,\n        \"samples\": [\n          \"HSA\",\n          \"BRD4\",\n          \"sEH\"\n        ],\n        \"semantic_type\": \"\",\n        \"description\": \"\"\n      }\n    },\n    {\n      \"column\": \"binds\",\n      \"properties\": {\n        \"dtype\": \"number\",\n        \"std\": 0,\n        \"min\": 0,\n        \"max\": 1,\n        \"num_unique_values\": 2,\n        \"samples\": [\n          1,\n          0\n        ],\n        \"semantic_type\": \"\",\n        \"description\": \"\"\n      }\n    }\n  ]\n}"
            }
          },
          "metadata": {},
          "execution_count": 9
        }
      ],
      "source": [
        "df"
      ]
    },
    {
      "cell_type": "markdown",
      "source": [
        "### PDBファイルのダウンロード"
      ],
      "metadata": {
        "id": "58ZQBJI0yjUK"
      },
      "id": "58ZQBJI0yjUK"
    },
    {
      "cell_type": "code",
      "source": [
        "!pip install biopython\n",
        "import time\n",
        "import urllib\n",
        "from Bio.PDB import PDBList\n",
        "\n",
        "pdb_ids = ['1ao6', '7jkz', '3i1y']\n",
        "\n",
        "def download_file(url, dst_path):\n",
        "    with urllib.request.urlopen(url) as web_file:\n",
        "        with open(dst_path, 'wb') as local_file:\n",
        "            local_file.write(web_file.read())\n",
        "\n",
        "# AlphaFold\n",
        "url = \"https://alphafold.ebi.ac.uk/files/AF-P02768-F1-model_v4.pdb\"\n",
        "\n",
        "dst_path = \"AF-P02768-F1-model_v4.pdb\"\n",
        "download_file(url, dst_path)\n",
        "\n",
        "pdbl = PDBList()\n",
        "\n",
        "for pdb_id in pdb_ids:\n",
        "    pdbl.retrieve_pdb_file(pdb_id, pdir='pdb_files/')\n",
        "    time.sleep(10)\n",
        "\n",
        "\n"
      ],
      "metadata": {
        "id": "jFlL_05BwDHy",
        "colab": {
          "base_uri": "https://localhost:8080/"
        },
        "outputId": "c3fa639d-d0e5-4a69-f363-887c2c243a0c"
      },
      "id": "jFlL_05BwDHy",
      "execution_count": null,
      "outputs": [
        {
          "output_type": "stream",
          "name": "stdout",
          "text": [
            "Collecting biopython\n",
            "  Downloading biopython-1.83-cp310-cp310-manylinux_2_17_x86_64.manylinux2014_x86_64.whl (3.1 MB)\n",
            "\u001b[?25l     \u001b[90m━━━━━━━━━━━━━━━━━━━━━━━━━━━━━━━━━━━━━━━━\u001b[0m \u001b[32m0.0/3.1 MB\u001b[0m \u001b[31m?\u001b[0m eta \u001b[36m-:--:--\u001b[0m\r\u001b[2K     \u001b[91m━━━━\u001b[0m\u001b[91m╸\u001b[0m\u001b[90m━━━━━━━━━━━━━━━━━━━━━━━━━━━━━━━━━━━\u001b[0m \u001b[32m0.4/3.1 MB\u001b[0m \u001b[31m11.9 MB/s\u001b[0m eta \u001b[36m0:00:01\u001b[0m\r\u001b[2K     \u001b[91m━━━━━━━━━━━━━━━━━━━━━━━━━━━━━━━━━━━━━━━\u001b[0m\u001b[91m╸\u001b[0m \u001b[32m3.1/3.1 MB\u001b[0m \u001b[31m59.2 MB/s\u001b[0m eta \u001b[36m0:00:01\u001b[0m\r\u001b[2K     \u001b[90m━━━━━━━━━━━━━━━━━━━━━━━━━━━━━━━━━━━━━━━━\u001b[0m \u001b[32m3.1/3.1 MB\u001b[0m \u001b[31m41.6 MB/s\u001b[0m eta \u001b[36m0:00:00\u001b[0m\n",
            "\u001b[?25hRequirement already satisfied: numpy in /usr/local/lib/python3.10/dist-packages (from biopython) (1.25.2)\n",
            "Installing collected packages: biopython\n",
            "Successfully installed biopython-1.83\n"
          ]
        }
      ]
    },
    {
      "cell_type": "markdown",
      "source": [
        "### OpenMMの利用"
      ],
      "metadata": {
        "id": "jKInaWjLHLo0"
      },
      "id": "jKInaWjLHLo0"
    },
    {
      "cell_type": "code",
      "source": [
        "!wget -qnc https://repo.anaconda.com/miniconda/Miniconda3-latest-Linux-x86_64.sh\n",
        "!bash Miniconda3-latest-Linux-x86_64.sh -bfp /usr/local\n",
        "!rm Miniconda3-latest-Linux-x86_64.sh"
      ],
      "metadata": {
        "colab": {
          "base_uri": "https://localhost:8080/"
        },
        "id": "7a3Vk0JlHJN7",
        "outputId": "04955c71-2402-4a37-bb56-2ca8021a691f"
      },
      "id": "7a3Vk0JlHJN7",
      "execution_count": null,
      "outputs": [
        {
          "output_type": "stream",
          "name": "stdout",
          "text": [
            "PREFIX=/usr/local\n",
            "Unpacking payload ...\n",
            "\n",
            "Installing base environment...\n",
            "\n",
            "Preparing transaction: ...working... done\n",
            "Executing transaction: ...working... done\n",
            "installation finished.\n",
            "WARNING:\n",
            "    You currently have a PYTHONPATH environment variable set. This may cause\n",
            "    unexpected behavior when running the Python interpreter in Miniconda3.\n",
            "    For best results, please verify that your PYTHONPATH only points to\n",
            "    directories of packages that are compatible with the Python interpreter\n",
            "    in Miniconda3: /usr/local\n"
          ]
        }
      ]
    },
    {
      "cell_type": "code",
      "source": [
        "!conda create -n myenv -y"
      ],
      "metadata": {
        "colab": {
          "base_uri": "https://localhost:8080/"
        },
        "id": "1NcVeUWHSj-V",
        "outputId": "9cbe0af8-73fd-443d-8c17-d8d99c5f688f"
      },
      "id": "1NcVeUWHSj-V",
      "execution_count": null,
      "outputs": [
        {
          "output_type": "stream",
          "name": "stdout",
          "text": [
            "Channels:\n",
            " - defaults\n",
            "Platform: linux-64\n",
            "Collecting package metadata (repodata.json): - \b\b\\ \b\b| \b\b/ \b\b- \b\b\\ \b\bdone\n",
            "Solving environment: / \b\bdone\n",
            "\n",
            "## Package Plan ##\n",
            "\n",
            "  environment location: /usr/local/envs/myenv\n",
            "\n",
            "\n",
            "\n",
            "Preparing transaction: \\ \b\bdone\n",
            "Verifying transaction: / \b\b- \b\b\\ \b\bdone\n",
            "Executing transaction: / \b\bdone\n",
            "#\n",
            "# To activate this environment, use\n",
            "#\n",
            "#     $ conda activate myenv\n",
            "#\n",
            "# To deactivate an active environment, use\n",
            "#\n",
            "#     $ conda deactivate\n",
            "\n"
          ]
        }
      ]
    },
    {
      "cell_type": "code",
      "source": [
        "!conda update conda -y\n",
        "!conda init bash\n",
        "!source activate myenv"
      ],
      "metadata": {
        "colab": {
          "base_uri": "https://localhost:8080/"
        },
        "id": "GlmAApXdS4yP",
        "outputId": "a7012eae-e979-44d5-9d47-5645fcef67ed"
      },
      "id": "GlmAApXdS4yP",
      "execution_count": null,
      "outputs": [
        {
          "output_type": "stream",
          "name": "stdout",
          "text": [
            "Channels:\n",
            " - defaults\n",
            " - conda-forge\n",
            "Platform: linux-64\n",
            "Collecting package metadata (repodata.json): - \b\b\\ \b\b| \b\b/ \b\b- \b\b\\ \b\b| \b\b/ \b\b- \b\b\\ \b\b| \b\b/ \b\b- \b\b\\ \b\b| \b\b/ \b\b- \b\b\\ \b\b| \b\b/ \b\b- \b\b\\ \b\b| \b\b/ \b\b- \b\b\\ \b\b| \b\b/ \b\b- \b\b\\ \b\b| \b\b/ \b\b- \b\b\\ \b\b| \b\bdone\n",
            "Solving environment: - \b\b\\ \b\bdone\n",
            "\n",
            "## Package Plan ##\n",
            "\n",
            "  environment location: /usr/local\n",
            "\n",
            "  added / updated specs:\n",
            "    - conda\n",
            "\n",
            "\n",
            "The following packages will be SUPERSEDED by a higher-priority channel:\n",
            "\n",
            "  conda              conda-forge::conda-24.5.0-py312h7900f~ --> pkgs/main::conda-24.5.0-py312h06a4308_0 \n",
            "\n",
            "\n",
            "\n",
            "Downloading and Extracting Packages:\n",
            "\n",
            "Preparing transaction: / \b\bdone\n",
            "Verifying transaction: \\ \b\bdone\n",
            "Executing transaction: / \b\bdone\n",
            "no change     /usr/local/condabin/conda\n",
            "no change     /usr/local/bin/conda\n",
            "no change     /usr/local/bin/conda-env\n",
            "no change     /usr/local/bin/activate\n",
            "no change     /usr/local/bin/deactivate\n",
            "no change     /usr/local/etc/profile.d/conda.sh\n",
            "no change     /usr/local/etc/fish/conf.d/conda.fish\n",
            "no change     /usr/local/shell/condabin/Conda.psm1\n",
            "no change     /usr/local/shell/condabin/conda-hook.ps1\n",
            "no change     /usr/local/lib/python3.12/site-packages/xontrib/conda.xsh\n",
            "no change     /usr/local/etc/profile.d/conda.csh\n",
            "no change     /root/.bashrc\n",
            "No action taken.\n"
          ]
        }
      ]
    },
    {
      "cell_type": "code",
      "source": [
        "!conda install -c conda-forge openmm -y"
      ],
      "metadata": {
        "colab": {
          "base_uri": "https://localhost:8080/"
        },
        "id": "T54SR0mwHO_K",
        "outputId": "c31ddef5-457e-4e72-bba7-bfafb70a5c17"
      },
      "id": "T54SR0mwHO_K",
      "execution_count": null,
      "outputs": [
        {
          "output_type": "stream",
          "name": "stdout",
          "text": [
            "Channels:\n",
            " - conda-forge\n",
            " - defaults\n",
            "Platform: linux-64\n",
            "Collecting package metadata (repodata.json): - \b\b\\ \b\b| \b\b/ \b\b- \b\b\\ \b\b| \b\b/ \b\b- \b\b\\ \b\b| \b\b/ \b\b- \b\b\\ \b\b| \b\bdone\n",
            "Solving environment: - \b\b\\ \b\bdone\n",
            "\n",
            "## Package Plan ##\n",
            "\n",
            "  environment location: /usr/local\n",
            "\n",
            "  added / updated specs:\n",
            "    - openmm\n",
            "\n",
            "\n",
            "The following packages will be SUPERSEDED by a higher-priority channel:\n",
            "\n",
            "  conda              pkgs/main::conda-24.5.0-py312h06a4308~ --> conda-forge::conda-24.5.0-py312h7900ff3_0 \n",
            "\n",
            "\n",
            "\n",
            "Downloading and Extracting Packages:\n",
            "\n",
            "Preparing transaction: / \b\bdone\n",
            "Verifying transaction: \\ \b\bdone\n",
            "Executing transaction: / \b\b- \b\bdone\n"
          ]
        }
      ]
    },
    {
      "cell_type": "code",
      "source": [
        "!conda install -c conda-forge openmm-setup -y"
      ],
      "metadata": {
        "colab": {
          "base_uri": "https://localhost:8080/"
        },
        "id": "IAds5R2NKAFA",
        "outputId": "16840cf7-1694-4802-d4b4-c02685d2f1b6"
      },
      "id": "IAds5R2NKAFA",
      "execution_count": null,
      "outputs": [
        {
          "output_type": "stream",
          "name": "stdout",
          "text": [
            "Channels:\n",
            " - conda-forge\n",
            " - defaults\n",
            "Platform: linux-64\n",
            "Collecting package metadata (repodata.json): - \b\b\\ \b\b| \b\b/ \b\b- \b\b\\ \b\b| \b\b/ \b\b- \b\b\\ \b\b| \b\bdone\n",
            "Solving environment: - \b\b\\ \b\bdone\n",
            "\n",
            "# All requested packages already installed.\n",
            "\n"
          ]
        }
      ]
    },
    {
      "cell_type": "markdown",
      "source": [],
      "metadata": {
        "id": "LBFI63RSOBaa"
      },
      "id": "LBFI63RSOBaa"
    },
    {
      "cell_type": "code",
      "source": [
        "!conda install -c conda-forge pdbfixer -y"
      ],
      "metadata": {
        "colab": {
          "base_uri": "https://localhost:8080/"
        },
        "id": "HpseU1DLOBzH",
        "outputId": "1ce396f8-f02e-4e5d-826a-79f75c3bb37c"
      },
      "id": "HpseU1DLOBzH",
      "execution_count": null,
      "outputs": [
        {
          "output_type": "stream",
          "name": "stdout",
          "text": [
            "Channels:\n",
            " - conda-forge\n",
            " - defaults\n",
            "Platform: linux-64\n",
            "Collecting package metadata (repodata.json): - \b\b\\ \b\b| \b\b/ \b\b- \b\b\\ \b\b| \b\b/ \b\b- \b\b\\ \b\b| \b\b/ \b\b- \b\b\\ \b\b| \b\b/ \b\b- \b\b\\ \b\bdone\n",
            "Solving environment: / \b\b- \b\bdone\n",
            "\n",
            "# All requested packages already installed.\n",
            "\n"
          ]
        }
      ]
    },
    {
      "cell_type": "code",
      "source": [
        "import os\n",
        "os.environ['PATH'] = '/usr/local/miniconda/bin:' + os.environ['PATH']"
      ],
      "metadata": {
        "id": "Iwnwpw85SB1Y"
      },
      "id": "Iwnwpw85SB1Y",
      "execution_count": null,
      "outputs": []
    },
    {
      "cell_type": "code",
      "source": [
        "import openmm as mm\n",
        "import openmm.app as app\n",
        "from openmm import unit\n",
        "import pdbfixer\n",
        "\n",
        "def preprocessing(pdb_file):\n",
        "  # PDBFixerでPDBファイルを読み込む\n",
        "  fixer = pdbfixer.PDBFixer(pdb_file)\n",
        "\n",
        "  # 分子力場の設定\n",
        "  forcefield = app.ForceField(\"amber14-all.xml\", \"amber14/tip3pfb.xml\")\n",
        "\n",
        "  # 不要な構造の削除\n",
        "  fixer.removeHeterogens()\n",
        "\n",
        "  # 欠けている残基のチェック（欠損原子の確認のためにも必要）\n",
        "  fixer.findMissingResidues()\n",
        "\n",
        "  # タンパク質末端の欠けている残基を取り除く処理\n",
        "  chains = list(fixer.topology.chains())\n",
        "  keys = fixer.missingResidues.keys()\n",
        "  for key in list(keys):\n",
        "      chain = chains[key[0]]\n",
        "      if key[1] == 0 or key[1] == len(list(chain.residues())):\n",
        "          del fixer.missingResidues[key]\n",
        "\n",
        "  # 非標準な残基が含まれているか確認、あれば標準的なものに置き換える\n",
        "  fixer.findNonstandardResidues()\n",
        "  fixer.replaceNonstandardResidues()\n",
        "\n",
        "  # 欠けている原子の確認、あれば追加する\n",
        "  fixer.findMissingAtoms()\n",
        "  fixer.addMissingAtoms()\n",
        "\n",
        "  # 水素原子の付与（pHを設定する）\n",
        "  ph = 7.0\n",
        "  fixer.addMissingHydrogens(ph)\n",
        "\n",
        "  # 水ボックスの追加（力場、paddingの厚み、イオン濃度（デフォルトはNaCl））\n",
        "  modeller = app.Modeller(fixer.topology, fixer.positions)\n",
        "  modeller.addSolvent(forcefield, padding=1.0 * unit.nanometers, ionicStrength=0.15 * unit.molar)\n",
        "\n",
        "  # 処理後の状態（トポロジー、原子の位置）をPDBファイルで出力\n",
        "  top = modeller.getTopology()\n",
        "  pos = modeller.getPositions()\n",
        "  app.PDBFile.writeFile(top, pos, open(f'Data/processed_{pdb_file.replace(\".pdb\", \"\")}.pdb', 'w'))"
      ],
      "metadata": {
        "id": "ReU9Df2GP--B"
      },
      "id": "ReU9Df2GP--B",
      "execution_count": null,
      "outputs": []
    },
    {
      "cell_type": "markdown",
      "id": "4e33325e",
      "metadata": {
        "papermill": {
          "duration": null,
          "end_time": null,
          "exception": null,
          "start_time": null,
          "status": "pending"
        },
        "tags": [],
        "id": "4e33325e"
      },
      "source": [
        "## Feature Preprocessing\n",
        "\n",
        "Lets grab the smiles for the fully assembled molecule `molecule_smiles` and generate ecfps for it. We could choose different radiuses or bits, but 2 and 1024 is pretty standard."
      ]
    },
    {
      "cell_type": "code",
      "execution_count": null,
      "id": "dbc5de28",
      "metadata": {
        "execution": {
          "iopub.status.busy": "2024-05-31T06:05:07.677246Z",
          "iopub.status.idle": "2024-05-31T06:05:07.677704Z",
          "shell.execute_reply": "2024-05-31T06:05:07.677524Z",
          "shell.execute_reply.started": "2024-05-31T06:05:07.677507Z"
        },
        "papermill": {
          "duration": null,
          "end_time": null,
          "exception": null,
          "start_time": null,
          "status": "pending"
        },
        "tags": [],
        "id": "dbc5de28"
      },
      "outputs": [],
      "source": [
        "from rdkit import Chem\n",
        "from rdkit.Chem import AllChem\n",
        "from sklearn.ensemble import RandomForestClassifier\n",
        "from sklearn.model_selection import train_test_split\n",
        "from sklearn.metrics import average_precision_score\n",
        "from sklearn.preprocessing import OneHotEncoder\n",
        "\n",
        "# Convert SMILES to RDKit molecules\n",
        "df['molecule'] = df['molecule_smiles'].apply(Chem.MolFromSmiles)\n",
        "\n",
        "# Generate ECFPs\n",
        "def generate_ecfp(molecule, radius=2, bits=1024):\n",
        "    if molecule is None:\n",
        "        return None\n",
        "    return list(AllChem.GetMorganFingerprintAsBitVect(molecule, radius, nBits=bits))\n",
        "\n",
        "df['ecfp'] = df['molecule'].apply(generate_ecfp)"
      ]
    },
    {
      "cell_type": "markdown",
      "id": "6137b215",
      "metadata": {
        "papermill": {
          "duration": null,
          "end_time": null,
          "exception": null,
          "start_time": null,
          "status": "pending"
        },
        "tags": [],
        "id": "6137b215"
      },
      "source": [
        "## Train Model"
      ]
    },
    {
      "cell_type": "code",
      "execution_count": null,
      "id": "a6cf3c1c",
      "metadata": {
        "execution": {
          "iopub.status.busy": "2024-05-31T06:05:07.679172Z",
          "iopub.status.idle": "2024-05-31T06:05:07.679608Z",
          "shell.execute_reply": "2024-05-31T06:05:07.679429Z",
          "shell.execute_reply.started": "2024-05-31T06:05:07.679407Z"
        },
        "papermill": {
          "duration": null,
          "end_time": null,
          "exception": null,
          "start_time": null,
          "status": "pending"
        },
        "tags": [],
        "id": "a6cf3c1c",
        "colab": {
          "base_uri": "https://localhost:8080/"
        },
        "outputId": "304a55aa-783c-404f-d82f-c14c48b7e959"
      },
      "outputs": [
        {
          "output_type": "stream",
          "name": "stdout",
          "text": [
            "Mean Average Precision (mAP): 0.97\n"
          ]
        }
      ],
      "source": [
        "# One-hot encode the protein_name\n",
        "onehot_encoder = OneHotEncoder(sparse_output=False)\n",
        "protein_onehot = onehot_encoder.fit_transform(df['protein_name'].values.reshape(-1, 1))\n",
        "\n",
        "# Combine ECFPs and one-hot encoded protein_name\n",
        "X = [ecfp + protein for ecfp, protein in zip(df['ecfp'].tolist(), protein_onehot.tolist())]\n",
        "y = df['binds'].tolist()\n",
        "\n",
        "# Split the data into train and test sets\n",
        "X_train, X_test, y_train, y_test = train_test_split(X, y, test_size=0.2, random_state=42)\n",
        "\n",
        "# Create and train the random forest model\n",
        "rf_model = RandomForestClassifier(n_estimators=100, random_state=42)\n",
        "rf_model.fit(X_train, y_train)\n",
        "\n",
        "# Make predictions on the test set\n",
        "y_pred_proba = rf_model.predict_proba(X_test)[:, 1]  # Probability of the positive class\n",
        "\n",
        "# Calculate the mean average precision\n",
        "map_score = average_precision_score(y_test, y_pred_proba)\n",
        "print(f\"Mean Average Precision (mAP): {map_score:.2f}\")\n",
        "\n",
        "\n"
      ]
    },
    {
      "cell_type": "markdown",
      "id": "ec29d2ff",
      "metadata": {
        "papermill": {
          "duration": null,
          "end_time": null,
          "exception": null,
          "start_time": null,
          "status": "pending"
        },
        "tags": [],
        "id": "ec29d2ff"
      },
      "source": [
        "Look at that Average Precision score. We did amazing!\n",
        "\n",
        "Actually no, we just overfit. This is likely recurring theme for this competition. It is easy to predict molecules that come from the same corner of chemical space, but generalizing to new molecules is extremely difficult."
      ]
    },
    {
      "cell_type": "markdown",
      "id": "69fb9bc6",
      "metadata": {
        "papermill": {
          "duration": null,
          "end_time": null,
          "exception": null,
          "start_time": null,
          "status": "pending"
        },
        "tags": [],
        "id": "69fb9bc6"
      },
      "source": [
        "## Test Prediction\n",
        "\n",
        " The trained Random Forest model is then used to predict the binding probabilities. These predictions are saved to a CSV file, which serves as the submission file for the Kaggle competition."
      ]
    },
    {
      "cell_type": "code",
      "execution_count": null,
      "id": "5818a2dc",
      "metadata": {
        "execution": {
          "iopub.status.busy": "2024-05-31T06:05:07.680852Z",
          "iopub.status.idle": "2024-05-31T06:05:07.681221Z",
          "shell.execute_reply": "2024-05-31T06:05:07.681052Z",
          "shell.execute_reply.started": "2024-05-31T06:05:07.681037Z"
        },
        "papermill": {
          "duration": null,
          "end_time": null,
          "exception": null,
          "start_time": null,
          "status": "pending"
        },
        "tags": [],
        "id": "5818a2dc"
      },
      "outputs": [],
      "source": [
        "import os\n",
        "\n",
        "# Process the test.parquet file chunk by chunk\n",
        "test_file = '/content/test.csv'\n",
        "output_file = 'submission.csv'  # Specify the path and filename for the output file\n",
        "\n",
        "# Read the test.parquet file into a pandas DataFrame\n",
        "for df_test in pd.read_csv(test_file, chunksize=100000):\n",
        "\n",
        "    # Generate ECFPs for the molecule_smiles\n",
        "    df_test['molecule'] = df_test['molecule_smiles'].apply(Chem.MolFromSmiles)\n",
        "    df_test['ecfp'] = df_test['molecule'].apply(generate_ecfp)\n",
        "\n",
        "    # One-hot encode the protein_name\n",
        "    protein_onehot = onehot_encoder.transform(df_test['protein_name'].values.reshape(-1, 1))\n",
        "\n",
        "    # Combine ECFPs and one-hot encoded protein_name\n",
        "    X_test = [ecfp + protein for ecfp, protein in zip(df_test['ecfp'].tolist(), protein_onehot.tolist())]\n",
        "\n",
        "    # Predict the probabilities\n",
        "    probabilities = rf_model.predict_proba(X_test)[:, 1]\n",
        "\n",
        "    # Create a DataFrame with 'id' and 'probability' columns\n",
        "    output_df = pd.DataFrame({'id': df_test['id'], 'binds': probabilities})\n",
        "\n",
        "    # Save the output DataFrame to a CSV file\n",
        "    output_df.to_csv(output_file, index=False, mode='a', header=not os.path.exists(output_file))\n"
      ]
    }
  ],
  "metadata": {
    "kaggle": {
      "accelerator": "none",
      "dataSources": [
        {
          "databundleVersionId": 8006601,
          "sourceId": 67356,
          "sourceType": "competition"
        }
      ],
      "dockerImageVersionId": 30673,
      "isGpuEnabled": false,
      "isInternetEnabled": true,
      "language": "python",
      "sourceType": "notebook"
    },
    "kernelspec": {
      "display_name": "Python 3",
      "name": "python3"
    },
    "language_info": {
      "codemirror_mode": {
        "name": "ipython",
        "version": 3
      },
      "file_extension": ".py",
      "mimetype": "text/x-python",
      "name": "python",
      "nbconvert_exporter": "python",
      "pygments_lexer": "ipython3",
      "version": "3.10.13"
    },
    "papermill": {
      "default_parameters": {},
      "duration": 40.320676,
      "end_time": "2024-05-31T06:07:52.909886",
      "environment_variables": {},
      "exception": true,
      "input_path": "__notebook__.ipynb",
      "output_path": "__notebook__.ipynb",
      "parameters": {},
      "start_time": "2024-05-31T06:07:12.589210",
      "version": "2.5.0"
    },
    "colab": {
      "provenance": [],
      "machine_shape": "hm",
      "gpuType": "L4",
      "history_visible": true,
      "include_colab_link": true
    },
    "accelerator": "GPU",
    "widgets": {
      "application/vnd.jupyter.widget-state+json": {
        "e6a93c2faa784a808417e35a23a14784": {
          "model_module": "@jupyter-widgets/controls",
          "model_name": "FloatProgressModel",
          "model_module_version": "1.5.0",
          "state": {
            "_dom_classes": [],
            "_model_module": "@jupyter-widgets/controls",
            "_model_module_version": "1.5.0",
            "_model_name": "FloatProgressModel",
            "_view_count": null,
            "_view_module": "@jupyter-widgets/controls",
            "_view_module_version": "1.5.0",
            "_view_name": "ProgressView",
            "bar_style": "",
            "description": "",
            "description_tooltip": null,
            "layout": "IPY_MODEL_a0b8ef23d3a242d8bb5acde318075d50",
            "max": 100,
            "min": 0,
            "orientation": "horizontal",
            "style": "IPY_MODEL_22039b022ad74b73818b8ce14f6086d9",
            "value": 100
          }
        },
        "a0b8ef23d3a242d8bb5acde318075d50": {
          "model_module": "@jupyter-widgets/base",
          "model_name": "LayoutModel",
          "model_module_version": "1.2.0",
          "state": {
            "_model_module": "@jupyter-widgets/base",
            "_model_module_version": "1.2.0",
            "_model_name": "LayoutModel",
            "_view_count": null,
            "_view_module": "@jupyter-widgets/base",
            "_view_module_version": "1.2.0",
            "_view_name": "LayoutView",
            "align_content": null,
            "align_items": null,
            "align_self": null,
            "border": null,
            "bottom": null,
            "display": null,
            "flex": null,
            "flex_flow": null,
            "grid_area": null,
            "grid_auto_columns": null,
            "grid_auto_flow": null,
            "grid_auto_rows": null,
            "grid_column": null,
            "grid_gap": null,
            "grid_row": null,
            "grid_template_areas": null,
            "grid_template_columns": null,
            "grid_template_rows": null,
            "height": null,
            "justify_content": null,
            "justify_items": null,
            "left": null,
            "margin": null,
            "max_height": null,
            "max_width": null,
            "min_height": null,
            "min_width": null,
            "object_fit": null,
            "object_position": null,
            "order": null,
            "overflow": null,
            "overflow_x": null,
            "overflow_y": null,
            "padding": null,
            "right": null,
            "top": null,
            "visibility": null,
            "width": "auto"
          }
        },
        "22039b022ad74b73818b8ce14f6086d9": {
          "model_module": "@jupyter-widgets/controls",
          "model_name": "ProgressStyleModel",
          "model_module_version": "1.5.0",
          "state": {
            "_model_module": "@jupyter-widgets/controls",
            "_model_module_version": "1.5.0",
            "_model_name": "ProgressStyleModel",
            "_view_count": null,
            "_view_module": "@jupyter-widgets/base",
            "_view_module_version": "1.2.0",
            "_view_name": "StyleView",
            "bar_color": "black",
            "description_width": ""
          }
        }
      }
    }
  },
  "nbformat": 4,
  "nbformat_minor": 5
}